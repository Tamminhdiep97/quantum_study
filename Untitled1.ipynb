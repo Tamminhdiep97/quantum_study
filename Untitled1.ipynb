{
 "cells": [
  {
   "cell_type": "markdown",
   "id": "e458014e-068f-44c5-bc3e-e7ef2484c6be",
   "metadata": {
    "tags": []
   },
   "source": [
    "# 1.3 Reqresenting Qubit States\n",
    "\n",
    "[TEXTBOOK LINK](https://qiskit.org/textbook/ch-states/representing-qubit-states.html#cvsq)"
   ]
  },
  {
   "cell_type": "markdown",
   "id": "d5215e1c-dec2-46c7-9f4b-15fb1503a88f",
   "metadata": {
    "tags": []
   },
   "source": [
    "## 1. Classical vs Quantum Bits"
   ]
  },
  {
   "cell_type": "markdown",
   "id": "9fc40ae2-99ea-4f50-94cc-7a24c652c307",
   "metadata": {},
   "source": [
    "### 1.1 StateVectors"
   ]
  },
  {
   "cell_type": "markdown",
   "id": "15ceb49a-611c-491b-84a4-00bbd2478c98",
   "metadata": {
    "tags": []
   },
   "source": [
    "- In quantum physics we use **statevectors** to describe the **state of our system**.\n",
    "- Statevectors happen to be a very good way of keeping track of quantum systems, including quantum computers"
   ]
  },
  {
   "cell_type": "markdown",
   "id": "5d569e45-cc94-4b2a-ba11-0d8670f5d282",
   "metadata": {
    "tags": []
   },
   "source": [
    "- Example:\n",
    "\n",
    "    -  Say we wanted to describe the position of a car along a track\n",
    "![Car position](image/car_track_1.jpg \"Diagram of car position\")    "
   ]
  },
  {
   "cell_type": "markdown",
   "id": "c26d06fd-e1b9-4996-a749-51866bb8e8bc",
   "metadata": {},
   "source": [
    "- For classical system, we could use a number **x**.  In this scenario **x = 4**"
   ]
  },
  {
   "cell_type": "markdown",
   "id": "7254adf2-c023-42bf-b1d8-a7baffa1804a",
   "metadata": {},
   "source": [
    "- Alternatively, we could instead use a collection of numbers in a vector called a statevector. Each element in the statevector contains the probability of finding the car in a certain place:"
   ]
  },
  {
   "cell_type": "markdown",
   "id": "dfd06916-ec8b-465f-8e0f-38383a1938d0",
   "metadata": {
    "tags": []
   },
   "source": [
    "|x⟩ = [0, 0, 0, 0, 1, 0, 0, ..., 0]  <= Probability of car being at position 4 = 1"
   ]
  },
  {
   "cell_type": "markdown",
   "id": "ad2b85dc-4683-4b4e-b43a-777ec7bb1023",
   "metadata": {},
   "source": [
    "\n",
    "##### This isn’t limited to position, we could also keep a statevector of all the possible speeds the car could have, and all the possible colours the car could be. With classical systems (like the car example above), this is a silly thing to do as it requires keeping huge vectors when we only really need one number. But as we will see in this chapter, statevectors happen to be a very good way of keeping track of quantum systems, including quantum computers."
   ]
  },
  {
   "cell_type": "markdown",
   "id": "8f145145-81c5-414f-ac2a-29657eef9333",
   "metadata": {},
   "source": [
    "### 1.2 Qubit Notation "
   ]
  },
  {
   "cell_type": "markdown",
   "id": "4e5c43b4-ec78-4d03-a216-4d6531578b9e",
   "metadata": {},
   "source": [
    "- Classical bit\n",
    "\n",
    "    - Classical bits always have a completely well-defined state: they are either 0 or 1 at every point during a computation. There is no more detail we can add to the state of a bit than this. So to write down the state of a of classical bit (c), we can just use these two binary values. For example:\n",
    "    \n",
    "    ```bash\n",
    "    c = 0\n",
    "    ```\n",
    "    \n",
    "    - This restriction is lifted for quantum bits. Whether we get a 0 or a 1 from a qubit only needs to be well-defined when a measurement is made to extract an output. At that point, it must commit to one of these two options. At all other times, its state will be something more complex than can be captured by a simple binary value."
   ]
  },
  {
   "cell_type": "markdown",
   "id": "25730c48-c071-40f9-a2fc-873f7ba127b4",
   "metadata": {},
   "source": [
    "-  Qubit:\n",
    "    - We can first focus on the two simplest cases. As we saw in the last section, it is possible to prepare a qubit in a state for which it definitely gives the outcome 0 when measured.\n",
    "    - We need a name for this state. Let's be unimaginative and call it  \n",
    "0\n",
    "  . Similarly, there exists a qubit state that is certain to output a 1. We'll call this  \n",
    "1\n",
    " . These two states are completely mutually exclusive. Either the qubit definitely outputs a 0, or it definitely outputs a 1. There is no overlap. One way to represent this with mathematics is to use two orthogonal vectors."
   ]
  },
  {
   "cell_type": "markdown",
   "id": "067b9548-bd86-4627-ac99-542322fa8f02",
   "metadata": {},
   "source": [
    "|0⟩ = [1 0]\n",
    "\n",
    "|1⟩ = [0 1]"
   ]
  },
  {
   "cell_type": "markdown",
   "id": "b61129eb-30d5-4e50-a2e2-88eae746d0af",
   "metadata": {},
   "source": [
    "First, let's unpack the weird | and  ⟩\n",
    " . Their job is essentially just to remind us that we are talking about the vectors that represent qubit states labelled  \n",
    "**0** and  **1**\n",
    " . This helps us distinguish them from things like the bit values 0 and 1 or the numbers 0 and 1. It is part of the bra-ket notation, introduced by Dirac."
   ]
  },
  {
   "cell_type": "markdown",
   "id": "3cd857ae-ee78-4b5b-981e-c54c100edc2a",
   "metadata": {},
   "source": [
    "With vectors we can describe more complex states than just  \n",
    "|0⟩ and  |1⟩ . For example, consider the vector"
   ]
  },
  {
   "cell_type": "markdown",
   "id": "bab941e5-4c12-4426-b410-52726e70dbf8",
   "metadata": {},
   "source": [
    "\\begin{gather*}\n",
    "|q_{0}⟩ =\n",
    "\\left[\\begin{array}{c}\n",
    "1/\\sqrt{2},\\\\\n",
    "i/\\sqrt{2} \\\\ \\end{array} \\right]\n",
    "\\end{gather*}"
   ]
  },
  {
   "cell_type": "markdown",
   "id": "ba8e903f-8b61-46e1-b249-dfcddccca23f",
   "metadata": {
    "tags": []
   },
   "source": [
    "To understand what this state means, we'll need to use the mathematical rules for manipulating vectors. Specifically, we'll need to understand how to add vectors together and how to multiply them by scalars."
   ]
  },
  {
   "cell_type": "markdown",
   "id": "0df364cc-8164-4fc5-9f65-3c7ed4ee9a5d",
   "metadata": {
    "tags": []
   },
   "source": [
    "To add two vectors, we add their elements together:\n",
    "\n",
    "    - To add the vectors [x₁, y₁] and [x₂, y₂], we add the corresponding components from each vector: [x₁+x₂, y₁+y₂]"
   ]
  },
  {
   "cell_type": "markdown",
   "id": "5b4d3aa2-6de6-4eff-aaa9-f91f9068fed5",
   "metadata": {
    "tags": []
   },
   "source": [
    "And to multiply a vector by a scalar, we multiply each element by the scalar:\n",
    "\n",
    "    - To multiply the vectors [x₁, y₁] and scalar *a*, we multiply each element of the vector by the scalar: [x₁*a, y₁*a]"
   ]
  },
  {
   "cell_type": "markdown",
   "id": "527a0851-5811-46af-aeaf-b2f0387d79c9",
   "metadata": {
    "tags": []
   },
   "source": [
    "These two rules are used to rewrite the vector  |q_0⟩\n",
    "  (as shown above):"
   ]
  },
  {
   "cell_type": "markdown",
   "id": "b3b97254-c5e3-4bdf-acab-022e8234807b",
   "metadata": {
    "tags": []
   },
   "source": [
    "\\begin{gather*}\n",
    "|q_{0}⟩ = (1/\\sqrt{2})|0⟩ + (i/\\sqrt{2})|1⟩\n",
    "\\end{gather*}"
   ]
  },
  {
   "cell_type": "markdown",
   "id": "c12f2fae-ba79-4df2-87ea-0ead19358802",
   "metadata": {},
   "source": [
    "It was stated before that the two vectors  \n",
    "|0⟩ and  |1⟩ are **orthonormal**, this means they are both **orthogonal** and **normalised**. Orthogonal means the vectors are at right angles:\n",
    "\n",
    "![angle](image/basis.png \"Diagram of vector angle\")    "
   ]
  },
  {
   "cell_type": "markdown",
   "id": "a0cfec93-ae38-44d3-8887-38527dfc3c7e",
   "metadata": {},
   "source": [
    "And normalised means their magnitudes (length of the arrow) is equal to 1. The two vectors  \n",
    "|0⟩ and  |1⟩\n",
    "  are linearly independent, which means we cannot describe  |0⟩ in terms of  |1⟩\n",
    " , and vice versa.\n",
    " \n",
    " However, using both the vectors  |0⟩ and  |1⟩\n",
    " , and our rules of addition and multiplication by scalars, we can describe all possible vectors in 2D space"
   ]
  },
  {
   "cell_type": "markdown",
   "id": "879c7f91-7f97-437c-bbfc-c9b85230a286",
   "metadata": {},
   "source": [
    "Since the states  **|0⟩** and  **|1⟩**\n",
    "  form an orthonormal basis, we can represent any 2D vector with a combination of these two states. This allows us to write the state of our qubit in the alternative form:"
   ]
  },
  {
   "cell_type": "markdown",
   "id": "141072dc-8e40-409c-bee9-3cdd6e4e9563",
   "metadata": {},
   "source": [
    "\\begin{gather*}\n",
    "|q_{0}⟩ = (1/\\sqrt{2})|0⟩ + (i/\\sqrt{2})|1⟩\n",
    "\\end{gather*}"
   ]
  },
  {
   "cell_type": "markdown",
   "id": "1c35fe31-35a3-4d60-bcfd-f46e12777481",
   "metadata": {
    "tags": []
   },
   "source": [
    "This vector,  **|q0⟩** is called the qubit's statevector, it tells us everything we could possibly know about this qubit. For now, we are only able to draw a few simple conclusions about this particular example of a statevector: it is not entirely  **|0⟩** and not entirely **|1⟩**\n",
    " . Instead, it is described by a linear combination of the two. In quantum mechanics, we typically describe linear combinations such as this using the word 'superposition'."
   ]
  },
  {
   "cell_type": "markdown",
   "id": "a9c6f73b-8d09-406f-ac30-555163b3a8ad",
   "metadata": {},
   "source": [
    "### 1.3 Exploring Qubit with Qiskit\n"
   ]
  },
  {
   "cell_type": "code",
   "execution_count": 1,
   "id": "abb93cc6-bf0c-409e-8bf5-7034003bd2db",
   "metadata": {
    "tags": []
   },
   "outputs": [
    {
     "data": {
      "text/html": [
       "<h3>Version Information</h3><table><tr><th>Qiskit Software</th><th>Version</th></tr><tr><td><code>qiskit-terra</code></td><td>0.23.3</td></tr><tr><td><code>qiskit-aer</code></td><td>0.12.0</td></tr><tr><td><code>qiskit-ibmq-provider</code></td><td>0.20.2</td></tr><tr><td><code>qiskit</code></td><td>0.42.1</td></tr><tr><th>System information</th></tr><tr><td>Python version</td><td>3.9.12</td></tr><tr><td>Python compiler</td><td>GCC 7.5.0</td></tr><tr><td>Python build</td><td>main, Jun  1 2022 11:38:51</td></tr><tr><td>OS</td><td>Linux</td></tr><tr><td>CPUs</td><td>4</td></tr><tr><td>Memory (Gb)</td><td>15.729286193847656</td></tr><tr><td colspan='2'>Wed Apr 12 16:51:15 2023 +07</td></tr></table>"
      ],
      "text/plain": [
       "<IPython.core.display.HTML object>"
      ]
     },
     "metadata": {},
     "output_type": "display_data"
    }
   ],
   "source": [
    "import qiskit.tools.jupyter\n",
    "%qiskit_version_table"
   ]
  },
  {
   "cell_type": "markdown",
   "id": "55ee7a02-49a8-4b36-b569-d32dee33c70c",
   "metadata": {},
   "source": [
    "##### First, we need to import all the tools we will need:"
   ]
  },
  {
   "cell_type": "code",
   "execution_count": 2,
   "id": "6bee6ebe-03c6-43c7-9943-9b5ccca4f1dd",
   "metadata": {
    "tags": []
   },
   "outputs": [],
   "source": [
    "from qiskit import QuantumCircuit, assemble, Aer\n",
    "from qiskit.visualization import plot_histogram, plot_bloch_vector\n",
    "from math import sqrt, pi\n",
    "from qiskit_aer import Aer"
   ]
  },
  {
   "cell_type": "markdown",
   "id": "5ebc3edc-3c82-4692-b961-a272a5af00f1",
   "metadata": {},
   "source": [
    "In Qiskit, we use the QuantumCircuit object to store our circuits, this is essentially a list of the quantum operations on our circuit and the qubits they are applied to."
   ]
  },
  {
   "cell_type": "code",
   "execution_count": 19,
   "id": "cafa96f7-19c2-43a7-b0da-d9d094278ed1",
   "metadata": {
    "tags": []
   },
   "outputs": [],
   "source": [
    "# Create a quantum circuit with one qubit\n",
    "qc = QuantumCircuit(1)"
   ]
  },
  {
   "cell_type": "markdown",
   "id": "09a099e9-2082-4941-9496-9839902149bc",
   "metadata": {},
   "source": [
    "In our quantum circuits, our qubits always start out in the state  |0⟩\n",
    " . We can use the initialize() method to transform this into any state. We give initialize() the vector we want in the form of a list, and tell it which qubit(s) we want to initialize in this state:"
   ]
  },
  {
   "cell_type": "code",
   "execution_count": 4,
   "id": "108500d8-105a-4be2-9f37-1931b2e384ed",
   "metadata": {
    "tags": []
   },
   "outputs": [
    {
     "data": {
      "image/png": "[encoded data removed]",
      "text/plain": [
       "<Figure size 185.453x117.056 with 1 Axes>"
      ]
     },
     "execution_count": 4,
     "metadata": {},
     "output_type": "execute_result"
    }
   ],
   "source": [
    "# Create a quantum circuit with one qubit\n",
    "qc = QuantumCircuit(1)\n",
    "# Define initial_state as |1>\n",
    "initial_state = [0, 1]\n",
    "# Apply initialisation operation to the 0th qubit\n",
    "qc.initialize(initial_state, 0) \n",
    "qc.draw()  # Let's view our circuit"
   ]
  },
  {
   "cell_type": "code",
   "execution_count": 5,
   "id": "163bb789-525d-4a3d-91c8-e37cebb30412",
   "metadata": {
    "tags": []
   },
   "outputs": [],
   "source": [
    "# Tell Qiskit how to simulate our circuit\n",
    "sim = Aer.get_backend('aer_simulator')"
   ]
  },
  {
   "cell_type": "code",
   "execution_count": 6,
   "id": "61450cc5-d8a6-4281-91cf-5e21de5bfbdd",
   "metadata": {
    "tags": []
   },
   "outputs": [],
   "source": [
    "# Create a quantum circuit with one qubit\n",
    "qc = QuantumCircuit(1)\n",
    "# Define initial_state as |1>\n",
    "initial_state = [0, 1]\n",
    "# Apply initialisation operation to the 0th qubit\n",
    "qc.initialize(initial_state, 0)\n",
    "# Tell simulator to save statevector\n",
    "qc.save_statevector()\n",
    "# Create a Qobj from the circuit for the simulator to run\n",
    "# obj = assemble(qc)\n",
    "# Do\n",
    "result = sim.run(qc).result()"
   ]
  },
  {
   "cell_type": "code",
   "execution_count": 7,
   "id": "239de61f-a75a-40eb-b487-53a29eda4ca9",
   "metadata": {
    "tags": []
   },
   "outputs": [
    {
     "name": "stdout",
     "output_type": "stream",
     "text": [
      "Statevector([0.+0.j, 1.+0.j],\n",
      "            dims=(2,))\n"
     ]
    }
   ],
   "source": [
    "out_state = result.get_statevector()\n",
    "print(out_state) "
   ]
  },
  {
   "cell_type": "code",
   "execution_count": 8,
   "id": "60f8747a-3835-48cd-b0b7-ee9dd2d314c8",
   "metadata": {
    "tags": []
   },
   "outputs": [
    {
     "data": {
      "image/png": "[encoded data removed]",
      "text/plain": [
       "<Figure size 580.387x200.667 with 1 Axes>"
      ]
     },
     "execution_count": 8,
     "metadata": {},
     "output_type": "execute_result"
    }
   ],
   "source": [
    "qc.measure_all()\n",
    "qc.draw()"
   ]
  },
  {
   "cell_type": "code",
   "execution_count": 9,
   "id": "e24aa9db-fdd0-4fe4-9183-c83a39c33d3d",
   "metadata": {
    "tags": []
   },
   "outputs": [
    {
     "data": {
      "image/png": "[encoded data removed]",
      "text/plain": [
       "<Figure size 700x500 with 1 Axes>"
      ]
     },
     "execution_count": 9,
     "metadata": {},
     "output_type": "execute_result"
    }
   ],
   "source": [
    "# qobj = assemble(qc)\n",
    "result = sim.run(qc).result()\n",
    "counts = result.get_counts()\n",
    "plot_histogram(counts)"
   ]
  },
  {
   "cell_type": "code",
   "execution_count": 10,
   "id": "3640e5c8-d8d8-434f-a31b-3ada93c0ba92",
   "metadata": {},
   "outputs": [],
   "source": [
    "initial_state = [1/sqrt(2), 1j/sqrt(2)]"
   ]
  },
  {
   "cell_type": "code",
   "execution_count": 22,
   "id": "e0cdc690-dc38-4828-90e0-f8d576cb57cf",
   "metadata": {
    "tags": []
   },
   "outputs": [
    {
     "data": {
      "image/png": "[encoded data removed]",
      "text/plain": [
       "<Figure size 436.286x117.056 with 1 Axes>"
      ]
     },
     "execution_count": 22,
     "metadata": {},
     "output_type": "execute_result"
    }
   ],
   "source": [
    "# Must redefine qc\n",
    "qc = QuantumCircuit(1)\n",
    "# Initialize the 0th qubit in the state `initial_state`\n",
    "qc.initialize(initial_state, 0)\n",
    "# Save statevector\n",
    "qc.save_statevector()\n",
    "qc.draw()\n"
   ]
  },
  {
   "cell_type": "code",
   "execution_count": 21,
   "id": "7365f85d-f503-492a-b653-7dd68602cd7c",
   "metadata": {
    "tags": []
   },
   "outputs": [
    {
     "name": "stdout",
     "output_type": "stream",
     "text": [
      "Statevector([0.70710678+0.j        , 0.        +0.70710678j],\n",
      "            dims=(2,))\n"
     ]
    }
   ],
   "source": [
    "# qobj = assemble(qc)\n",
    "# Execute the circuit \n",
    "state = sim.run(qc).result().get_statevector()\n",
    "# Print the result\n",
    "print(state)"
   ]
  },
  {
   "cell_type": "code",
   "execution_count": 12,
   "id": "77da77f2-f68f-4cf3-98f1-c979cd6897e3",
   "metadata": {
    "tags": []
   },
   "outputs": [
    {
     "data": {
      "image/png": "[encoded data removed]",
      "text/plain": [
       "<Figure size 700x500 with 1 Axes>"
      ]
     },
     "execution_count": 12,
     "metadata": {},
     "output_type": "execute_result"
    }
   ],
   "source": [
    "# qobj = assemble(qc)\n",
    "results = sim.run(qc).result().get_counts()\n",
    "plot_histogram(results)"
   ]
  },
  {
   "cell_type": "markdown",
   "id": "e3de9ce6-d1b8-4d2f-af86-ab92eda556eb",
   "metadata": {},
   "source": [
    "## 2. The Rules of Measurement"
   ]
  },
  {
   "cell_type": "markdown",
   "id": "9af02f86-a635-474f-a986-51aa261dd2ba",
   "metadata": {},
   "source": [
    "### 2.1 A Very Important Rule"
   ]
  },
  {
   "cell_type": "markdown",
   "id": "dec9917c-b50b-478c-a14d-5b98ae5652e4",
   "metadata": {},
   "source": [
    "There is a simple rule for measurement. To find the probability of measuring a state  |ψ⟩ in the state  |x⟩ we do:"
   ]
  },
  {
   "cell_type": "markdown",
   "id": "f0fee1b7-5ff5-488a-bc83-3307174ac4dc",
   "metadata": {},
   "source": [
    "\\begin{gather*}\n",
    "p(|x⟩) = |⟨x|ψ⟩|^2\n",
    "\\end{gather*}"
   ]
  },
  {
   "cell_type": "markdown",
   "id": "437c4bbb-acde-42f3-ac98-13e5937cf76b",
   "metadata": {},
   "source": [
    "The symbols  ⟨ and  | tell us  **⟨x|** is a **row vector** and the symbols | and ⟩ tell us **|ψ⟩** is a **column vector**. \n",
    "\n",
    "In quantum mechanics we call the **column vectors kets** and the **row vectors bras**. Together they make up bra-ket notation. Any **ket |a⟩** has a corresponding **bra ⟨a|**\n",
    " , and we convert between them using the conjugate transpose."
   ]
  },
  {
   "cell_type": "code",
   "execution_count": null,
   "id": "94e8ef07-98ea-40ab-ba78-caa3d7e43bf4",
   "metadata": {},
   "outputs": [],
   "source": []
  }
 ],
 "metadata": {
  "kernelspec": {
   "display_name": "Python 3 (ipykernel)",
   "language": "python",
   "name": "python3"
  },
  "language_info": {
   "codemirror_mode": {
    "name": "ipython",
    "version": 3
   },
   "file_extension": ".py",
   "mimetype": "text/x-python",
   "name": "python",
   "nbconvert_exporter": "python",
   "pygments_lexer": "ipython3",
   "version": "3.9.12"
  }
 },
 "nbformat": 4,
 "nbformat_minor": 5
}
